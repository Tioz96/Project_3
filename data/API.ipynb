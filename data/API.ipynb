{
 "cells": [
  {
   "cell_type": "code",
   "execution_count": 2,
   "metadata": {},
   "outputs": [],
   "source": [
    "from flask import Flask, jsonify\n",
    "from pymongo import MongoClient\n",
    "import json\n"
   ]
  },
  {
   "cell_type": "code",
   "execution_count": null,
   "metadata": {},
   "outputs": [],
   "source": [
    "# Inicializar la aplicación Flask\n",
    "app = Flask(__name__)\n",
    "# Crear una ruta para la visualización de datos\n",
    "@app.route('/datos', methods=['GET'])\n",
    "def obtener_datos():\n",
    "    # Obtener todos los datos de la colección, excluyendo el campo _id\n",
    "    datos = list(collection.find({}, {'_id': 0}))\n",
    "    return jsonify(datos)\n",
    "if __name__ == '__main__':\n",
    "    # Ejecutar la aplicación Flask en modo de depuración\n",
    "    app.run(debug=True)"
   ]
  },
  {
   "cell_type": "code",
   "execution_count": null,
   "metadata": {},
   "outputs": [],
   "source": [
    "# Crear una instancia de Flask\n",
    "app = Flask(__name__)\n",
    "# Ruta para obtener todos los datos de la colección\n",
    "@app.route('/datos', methods=['GET'])\n",
    "def obtener_datos():\n",
    "    # Consultar todos los documentos de la colección\n",
    "    datos = list(collection.find())\n",
    "    return jsonify(datos)\n",
    "# Ruta para obtener un dato específico por su ID\n",
    "@app.route('/datos/<id>', methods=['GET'])\n",
    "def obtener_dato_por_id(id):\n",
    "    # Consultar un documento por su ID en la colección\n",
    "    dato = collection.find_one({'_id': id})\n",
    "    return jsonify(dato)\n",
    "# Ejecución de la API en un servidor local\n",
    "if __name__ == '__main__':\n",
    "    app.run()"
   ]
  },
  {
   "cell_type": "code",
   "execution_count": 16,
   "metadata": {},
   "outputs": [
    {
     "name": "stdout",
     "output_type": "stream",
     "text": [
      " * Serving Flask app \"__main__\" (lazy loading)\n",
      " * Environment: production\n",
      "\u001b[31m   WARNING: This is a development server. Do not use it in a production deployment.\u001b[0m\n",
      "\u001b[2m   Use a production WSGI server instead.\u001b[0m\n",
      " * Debug mode: off\n"
     ]
    },
    {
     "name": "stderr",
     "output_type": "stream",
     "text": [
      " * Running on http://127.0.0.1:5000/ (Press CTRL+C to quit)\n",
      "127.0.0.1 - - [11/Jul/2023 20:46:23] \"GET / HTTP/1.1\" 404 -\n"
     ]
    }
   ],
   "source": [
    "# Crear una instancia de Flask\n",
    "app = Flask(__name__)\n",
    "\n",
    "mongo = MongoClient('mongodb://localhost:27017/')\n",
    "db = mongo['F1database']\n",
    "collection = db['DataSets']\n",
    "# Ruta para obtener el campo \"driverRef\" de todos los documentos\n",
    "@app.route('/api/documentos', methods=['GET'])\n",
    "def mostrar_documento():\n",
    "    documento = collection.find_one()\n",
    "    if documento:\n",
    "        return jsonify(documento)\n",
    "    else:\n",
    "        return jsonify({'mensaje': 'No se encontraron documentos'}), 404\n",
    "\n",
    "if __name__ == '__main__':\n",
    "    app.run()\n"
   ]
  },
  {
   "cell_type": "code",
   "execution_count": 24,
   "metadata": {},
   "outputs": [
    {
     "name": "stdout",
     "output_type": "stream",
     "text": [
      " * Serving Flask app \"__main__\" (lazy loading)\n",
      " * Environment: production\n",
      "\u001b[31m   WARNING: This is a development server. Do not use it in a production deployment.\u001b[0m\n",
      "\u001b[2m   Use a production WSGI server instead.\u001b[0m\n",
      " * Debug mode: off\n"
     ]
    },
    {
     "name": "stderr",
     "output_type": "stream",
     "text": [
      " * Running on http://127.0.0.1:5000/ (Press CTRL+C to quit)\n"
     ]
    }
   ],
   "source": [
    "from flask import Flask, jsonify\n",
    "from pymongo import MongoClient\n",
    "\n",
    "app = Flask(__name__)\n",
    "\n",
    "mongo = MongoClient('mongodb://localhost:27017/')\n",
    "db = mongo['F1database']\n",
    "collection = db['DataSets']\n",
    "\n",
    "# Ruta para obtener el campo \"driverRef\" de todos los documentos\n",
    "@app.route('/api/documentos', methods=['GET'])\n",
    "def mostrar_documentos():\n",
    "    documentos = list(collection.find())\n",
    "    if documentos:\n",
    "        return jsonify(documentos)\n",
    "    else:\n",
    "        return jsonify({'mensaje': 'No se encontraron documentos'}), 404\n",
    "\n",
    "if __name__ == '__main__':\n",
    "    app.run()"
   ]
  },
  {
   "cell_type": "code",
   "execution_count": 9,
   "metadata": {},
   "outputs": [
    {
     "ename": "NameError",
     "evalue": "name 'obtener_datos' is not defined",
     "output_type": "error",
     "traceback": [
      "\u001b[1;31m---------------------------------------------------------------------------\u001b[0m",
      "\u001b[1;31mNameError\u001b[0m                                 Traceback (most recent call last)",
      "\u001b[1;32m~\\AppData\\Local\\Temp\\ipykernel_10308\\3983379214.py\u001b[0m in \u001b[0;36m<module>\u001b[1;34m\u001b[0m\n\u001b[1;32m----> 1\u001b[1;33m \u001b[0mobtener_datos\u001b[0m\u001b[1;33m\u001b[0m\u001b[1;33m\u001b[0m\u001b[0m\n\u001b[0m",
      "\u001b[1;31mNameError\u001b[0m: name 'obtener_datos' is not defined"
     ]
    }
   ],
   "source": [
    "obtener_datos"
   ]
  },
  {
   "cell_type": "code",
   "execution_count": 14,
   "metadata": {},
   "outputs": [
    {
     "name": "stdout",
     "output_type": "stream",
     "text": [
      "['F1database', 'admin', 'autosaurus', 'config', 'customers', 'local', 'pets_db', 'petsitly_marketing', 'school', 'travel_db', 'uk_food']\n"
     ]
    }
   ],
   "source": [
    "client = MongoClient('mongodb://localhost:27017/')\n",
    "print(client.list_database_names())\n",
    "\n"
   ]
  },
  {
   "cell_type": "code",
   "execution_count": 15,
   "metadata": {},
   "outputs": [
    {
     "name": "stdout",
     "output_type": "stream",
     "text": [
      "['collection']\n"
     ]
    }
   ],
   "source": [
    "db = client['F1database']\n",
    "print(db.list_collection_names())"
   ]
  },
  {
   "cell_type": "code",
   "execution_count": null,
   "metadata": {},
   "outputs": [],
   "source": []
  }
 ],
 "metadata": {
  "kernelspec": {
   "display_name": "base",
   "language": "python",
   "name": "python3"
  },
  "language_info": {
   "codemirror_mode": {
    "name": "ipython",
    "version": 3
   },
   "file_extension": ".py",
   "mimetype": "text/x-python",
   "name": "python",
   "nbconvert_exporter": "python",
   "pygments_lexer": "ipython3",
   "version": "3.9.13"
  },
  "orig_nbformat": 4
 },
 "nbformat": 4,
 "nbformat_minor": 2
}
