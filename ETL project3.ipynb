{
 "cells": [
  {
   "cell_type": "code",
   "execution_count": 4,
   "metadata": {},
   "outputs": [],
   "source": [
    "#pip install mongoengine\n"
   ]
  },
  {
   "cell_type": "code",
   "execution_count": null,
   "metadata": {},
   "outputs": [],
   "source": [
    "from pymongo import MongoClient\n",
    "import pandas as pd"
   ]
  },
  {
   "cell_type": "code",
   "execution_count": 11,
   "metadata": {},
   "outputs": [],
   "source": [
    "mongo = MongoClient(port=27017)\n",
    "db = mongo.F1database\n",
    "collection = db['DataSets']"
   ]
  },
  {
   "cell_type": "code",
   "execution_count": 7,
   "metadata": {},
   "outputs": [],
   "source": [
    "data_1 = pd.read_csv('./data/circuits.csv')\n",
    "data_2 = pd.read_csv('./data/constructor_results.csv')\n",
    "data_3 = pd.read_csv('./data/constructor_standings.csv')\n",
    "data_4 = pd.read_csv('./data/constructors.csv')\n",
    "data_5 = pd.read_csv('./data/driver_standings.csv')\n",
    "data_6 = pd.read_csv('./data/drivers.csv')\n",
    "data_7 = pd.read_csv('./data/formula1_data_races.csv')\n",
    "data_8 = pd.read_csv('./data/lap_times.csv')\n",
    "data_9 = pd.read_csv('./data/races.csv')\n",
    "data_10 = pd.read_csv('./data/results.csv')\n",
    "data_11 = pd.read_csv('./data/seasons.csv')\n",
    "data_12 = pd.read_csv('./data/status.csv')"
   ]
  },
  {
   "cell_type": "code",
   "execution_count": 8,
   "metadata": {},
   "outputs": [],
   "source": [
    "data_1 = data_1.to_dict(orient='records')\n",
    "data_2 = data_2.to_dict(orient='records')\n",
    "data_3 = data_3.to_dict(orient='records')\n",
    "data_4 = data_4.to_dict(orient='records')\n",
    "data_5 = data_5.to_dict(orient='records')\n",
    "data_6 = data_6.to_dict(orient='records')\n",
    "data_7 = data_7.to_dict(orient='records')\n",
    "data_8 = data_8.to_dict(orient='records')\n",
    "data_9 = data_9.to_dict(orient='records')\n",
    "data_10 = data_10.to_dict(orient='records')\n",
    "data_11 = data_11.to_dict(orient='records')\n",
    "data_12 = data_12.to_dict(orient='records')"
   ]
  },
  {
   "cell_type": "code",
   "execution_count": 12,
   "metadata": {},
   "outputs": [
    {
     "data": {
      "text/plain": [
       "<pymongo.results.InsertManyResult at 0x1850ea9d340>"
      ]
     },
     "execution_count": 12,
     "metadata": {},
     "output_type": "execute_result"
    }
   ],
   "source": [
    "db.collection.insert_many(data_1)"
   ]
  },
  {
   "cell_type": "code",
   "execution_count": 13,
   "metadata": {},
   "outputs": [
    {
     "data": {
      "text/plain": [
       "<pymongo.results.InsertManyResult at 0x1850f93c610>"
      ]
     },
     "execution_count": 13,
     "metadata": {},
     "output_type": "execute_result"
    }
   ],
   "source": [
    "db.collection.insert_many(data_2)\n",
    "db.collection.insert_many(data_3)\n",
    "db.collection.insert_many(data_4)\n",
    "db.collection.insert_many(data_5)\n",
    "db.collection.insert_many(data_6)\n",
    "db.collection.insert_many(data_7)\n",
    "db.collection.insert_many(data_8)\n",
    "db.collection.insert_many(data_9)\n",
    "db.collection.insert_many(data_10)\n",
    "db.collection.insert_many(data_11)\n",
    "db.collection.insert_many(data_12)\n"
   ]
  },
  {
   "cell_type": "code",
   "execution_count": 14,
   "metadata": {},
   "outputs": [
    {
     "data": {
      "text/plain": [
       "{'_id': ObjectId('64ae031dfd2006c678459ba7'),\n",
       " 'circuitId': 1,\n",
       " 'circuitRef': 'albert_park',\n",
       " 'name': 'Albert Park Grand Prix Circuit',\n",
       " 'location': 'Melbourne',\n",
       " 'country': 'Australia',\n",
       " 'lat': -37.8497,\n",
       " 'lng': 144.968,\n",
       " 'alt': '10',\n",
       " 'url': 'http://en.wikipedia.org/wiki/Melbourne_Grand_Prix_Circuit'}"
      ]
     },
     "execution_count": 14,
     "metadata": {},
     "output_type": "execute_result"
    }
   ],
   "source": [
    "db.collection.find_one()"
   ]
  },
  {
   "cell_type": "code",
   "execution_count": null,
   "metadata": {},
   "outputs": [],
   "source": []
  }
 ],
 "metadata": {
  "kernelspec": {
   "display_name": "base",
   "language": "python",
   "name": "python3"
  },
  "language_info": {
   "codemirror_mode": {
    "name": "ipython",
    "version": 3
   },
   "file_extension": ".py",
   "mimetype": "text/x-python",
   "name": "python",
   "nbconvert_exporter": "python",
   "pygments_lexer": "ipython3",
   "version": "3.9.13"
  },
  "orig_nbformat": 4
 },
 "nbformat": 4,
 "nbformat_minor": 2
}
